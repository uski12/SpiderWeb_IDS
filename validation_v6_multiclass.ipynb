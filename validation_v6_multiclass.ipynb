{
 "cells": [
  {
   "cell_type": "code",
   "execution_count": 3,
   "id": "9a157e22-7c40-4948-b6a3-85597e241627",
   "metadata": {},
   "outputs": [],
   "source": [
    "import xgboost as xgb\n",
    "import pandas as pd\n",
    "import numpy as np\n",
    "from joblib import load, dump\n",
    "from sklearn.model_selection import train_test_split\n",
    "from sklearn.ensemble import RandomForestClassifier,ExtraTreesClassifier\n",
    "from sklearn.tree import DecisionTreeClassifier\n",
    "from sklearn.metrics import classification_report, confusion_matrix\n",
    "from sklearn.utils import resample\n",
    "\n",
    "import seaborn as sns\n",
    "import matplotlib.pyplot as plt"
   ]
  },
  {
   "cell_type": "code",
   "execution_count": 4,
   "id": "524f22f2-0a75-44ab-a5c6-c13751df9506",
   "metadata": {},
   "outputs": [
    {
     "name": "stdout",
     "output_type": "stream",
     "text": [
      "(111, 41)\n",
      "(205, 41)\n",
      "(206, 41)\n",
      "(208, 41)\n",
      "(222, 41)\n"
     ]
    }
   ],
   "source": [
    "''' \n",
    "0 - normal\n",
    "1 - dos\n",
    "2 - portscan\n",
    "3 - bruteforce\n",
    "'''\n",
    "df = pd.read_csv(\"custom_data/normal/extracted_normal.csv\")\n",
    "print(df.shape)\n",
    "\n",
    "df = pd.concat([df, pd.read_csv(\"custom_data/normal/extracted_normal2.csv\")], ignore_index=True)\n",
    "print(df.shape)\n",
    "\n",
    "df = pd.concat([df, pd.read_csv(\"custom_data/normal/normal_vm.csv\")], ignore_index=True)\n",
    "print(df.shape)\n",
    "\n",
    "df = pd.concat([df, pd.read_csv(\"custom_data/normal/normal_vm_soy.csv\")], ignore_index=True)\n",
    "print(df.shape)\n",
    "\n",
    "df = pd.concat([df, pd.read_csv(\"custom_data/normal/extracted_normal4.csv\")], ignore_index=True)\n",
    "print(df.shape)\n",
    "\n",
    "df['Label'] = 0\n"
   ]
  },
  {
   "cell_type": "code",
   "execution_count": 5,
   "id": "1e18eeb7-fe57-419a-8177-cd1176c7ad8e",
   "metadata": {},
   "outputs": [
    {
     "name": "stdout",
     "output_type": "stream",
     "text": [
      "(2894, 41)\n",
      "(4624, 41)\n",
      "(7073, 41)\n"
     ]
    }
   ],
   "source": [
    "df_at = pd.read_csv(\"custom_data/golden_eye/golden_eye_v1_1.csv\")\n",
    "print(df_at.shape)\n",
    "\n",
    "df_at = pd.concat([df_at, pd.read_csv(\"custom_data/golden_eye/golden_eye_v1_2.csv\")], ignore_index=True)\n",
    "print(df_at.shape)\n",
    "\n",
    "df_at = pd.concat([df_at, pd.read_csv(\"custom_data/golden_eye/golden_eye_v2_1.csv\")], ignore_index=True)\n",
    "print(df_at.shape)\n",
    "\n",
    "df_at['Label'] = 1"
   ]
  },
  {
   "cell_type": "code",
   "execution_count": 11,
   "id": "c554dd88-c745-47e3-9f25-f0c2e51d3565",
   "metadata": {},
   "outputs": [
    {
     "name": "stdout",
     "output_type": "stream",
     "text": [
      "(424, 41)\n"
     ]
    }
   ],
   "source": [
    "df_portscan = pd.read_csv(\"custom_data/all_attacks/portscan.csv\")\n",
    "print(df_portscan.shape)\n",
    "\n",
    "df_portscan['Label'] = 2"
   ]
  },
  {
   "cell_type": "code",
   "execution_count": 12,
   "id": "5fcdaf7b-2f0d-478f-a1d8-b6e1bf069726",
   "metadata": {},
   "outputs": [
    {
     "name": "stdout",
     "output_type": "stream",
     "text": [
      "(150, 41)\n"
     ]
    }
   ],
   "source": [
    "df_slowloris = pd.read_csv(\"custom_data/all_attacks/slowloris.csv\")\n",
    "print(df_slowloris.shape)\n",
    "\n",
    "df_slowloris['Label'] = 3"
   ]
  },
  {
   "cell_type": "code",
   "execution_count": 13,
   "id": "3f942121-d19c-41a7-b54e-c0bb7c39fd82",
   "metadata": {},
   "outputs": [
    {
     "name": "stdout",
     "output_type": "stream",
     "text": [
      "(4555, 41)\n"
     ]
    }
   ],
   "source": [
    "df_hulk = pd.read_csv(\"custom_data/all_attacks/hulk_dos.csv\")\n",
    "print(df_hulk.shape)\n",
    "\n",
    "df_hulk['Label'] = 4"
   ]
  },
  {
   "cell_type": "code",
   "execution_count": 15,
   "id": "51dc47c9-afdb-4ab6-bcf4-dd2243a7fabb",
   "metadata": {},
   "outputs": [
    {
     "name": "stdout",
     "output_type": "stream",
     "text": [
      "(12424, 42)\n"
     ]
    }
   ],
   "source": [
    "#df = pd.concat([df, df_at], ignore_index=True)\n",
    "#print(df.shape)\n",
    "\n",
    "df = pd.concat([df, df_at,df_portscan,df_slowloris,df_hulk], ignore_index=True)\n",
    "print(df.shape)"
   ]
  },
  {
   "cell_type": "code",
   "execution_count": 16,
   "id": "e68b2fca-a41c-4ac2-9afb-129ed9b1effc",
   "metadata": {},
   "outputs": [
    {
     "name": "stdout",
     "output_type": "stream",
     "text": [
      "Label\n",
      "1    7073\n",
      "4    4555\n",
      "2     424\n",
      "0     222\n",
      "3     150\n",
      "Name: count, dtype: int64\n"
     ]
    }
   ],
   "source": [
    "#print(df['Label'].value_counts())\n",
    "\n",
    "print(df['Label'].value_counts())"
   ]
  },
  {
   "cell_type": "code",
   "execution_count": 17,
   "id": "be36e0f7-4637-4fc8-858f-92522fe8b2b8",
   "metadata": {},
   "outputs": [],
   "source": [
    "imp_feats = ['Average Packet Size', 'Bwd Packet Length Std', 'Bwd Header Length', 'Destination Port', 'Bwd Packet Length Max', 'Max Packet Length', 'Avg Bwd Segment Size', 'Packet Length Std', 'Bwd Packet Length Mean', 'Packet Length Mean', 'PSH Flag Count', 'Packet Length Variance', 'Bwd Packet Length Min', 'Fwd Packet Length Min', 'Fwd Packet Length Max', 'Init_Win_bytes_forward', 'Subflow Bwd Bytes', 'Total Length of Bwd Packets', 'Flow IAT Mean', 'Total Length of Fwd Packets', 'Min Packet Length', 'Fwd Packet Length Mean', 'Fwd IAT Max', 'Active Min', 'URG Flag Count', 'Fwd IAT Std', 'Subflow Fwd Packets', 'Flow IAT Max', 'Flow Bytes/s', 'Avg Fwd Segment Size']\n"
   ]
  },
  {
   "cell_type": "code",
   "execution_count": 18,
   "id": "916b8448-88cb-4c72-ad92-e1a2e4e7b4ec",
   "metadata": {},
   "outputs": [
    {
     "name": "stdout",
     "output_type": "stream",
     "text": [
      "Label\n",
      "4    4555\n",
      "2     424\n",
      "0     222\n",
      "1     219\n",
      "3     150\n",
      "Name: count, dtype: int64\n"
     ]
    }
   ],
   "source": [
    "# Define the sample size range for each class\n",
    "min_samples = 200\n",
    "max_samples = 220\n",
    "\n",
    "# Function to randomly sample within the range [min_samples, max_samples]\n",
    "def random_sample_class(df, label, min_samples, max_samples):\n",
    "    n_samples = np.random.randint(min_samples, max_samples + 1)\n",
    "    return resample(df[df['Label'] == label], n_samples=n_samples, random_state=42)\n",
    "\n",
    "# Define the labels to be resampled\n",
    "class_labels = [1, 4, 2]\n",
    "\n",
    "# Apply the random_sample_class function to each class\n",
    "resampled_dfs = [random_sample_class(df, label, min_samples, max_samples) for label in class_labels]\n",
    "df_resampled = pd.concat(resampled_dfs + [df[df['Label'] == label] for label in df['Label'].unique() if label not in class_labels])\n",
    "df = df_resampled\n",
    "\n",
    "print(df['Label'].value_counts())\n"
   ]
  },
  {
   "cell_type": "code",
   "execution_count": 19,
   "id": "1f1ad5f0-83c6-4a91-ab4c-2cdbc6a3a268",
   "metadata": {},
   "outputs": [
    {
     "name": "stdout",
     "output_type": "stream",
     "text": [
      "(5570, 30)\n"
     ]
    }
   ],
   "source": [
    "x = df[imp_feats]\n",
    "y = df['Label']\n",
    "\n",
    "print(x.shape)\n",
    "\n"
   ]
  },
  {
   "cell_type": "code",
   "execution_count": 22,
   "id": "b751e1ee-6558-4947-8dc3-304c0c8382f7",
   "metadata": {},
   "outputs": [
    {
     "name": "stdout",
     "output_type": "stream",
     "text": [
      "(4456, 30) (4456,)\n"
     ]
    }
   ],
   "source": [
    "x_train, x_test, y_train, y_test = train_test_split(x, y, train_size = 0.8, test_size = 0.2, random_state = 0, stratify = y)\n",
    "print(x_train.shape, y_train.shape)"
   ]
  },
  {
   "cell_type": "code",
   "execution_count": 23,
   "id": "3c7f849c-63c2-4211-b5a3-22d331a86293",
   "metadata": {
    "scrolled": true
   },
   "outputs": [
    {
     "name": "stdout",
     "output_type": "stream",
     "text": [
      "Accuracy of new DT:  0.9874326750448833\n",
      "              precision    recall  f1-score   support\n",
      "\n",
      "           0       1.00      0.95      0.98        44\n",
      "           1       0.97      0.75      0.85        44\n",
      "           2       1.00      1.00      1.00        85\n",
      "           3       1.00      1.00      1.00        30\n",
      "           4       0.99      1.00      0.99       911\n",
      "\n",
      "    accuracy                           0.99      1114\n",
      "   macro avg       0.99      0.94      0.96      1114\n",
      "weighted avg       0.99      0.99      0.99      1114\n",
      "\n"
     ]
    },
    {
     "data": {
      "image/png": "[encoded data removed]",
      "text/plain": [
       "<Figure size 500x500 with 2 Axes>"
      ]
     },
     "metadata": {},
     "output_type": "display_data"
    }
   ],
   "source": [
    "dt = DecisionTreeClassifier(criterion='gini', splitter= 'best', max_depth=5)\n",
    "dt.fit(x_train,y_train)\n",
    "\n",
    "y_pred = dt.predict(x_test)\n",
    "\n",
    "print('Accuracy of new DT: ', dt.score(x_test, y_test))\n",
    "print(classification_report(y_test,y_pred))\n",
    "cm=confusion_matrix(y_test,y_pred)\n",
    "f,ax=plt.subplots(figsize=(5,5))\n",
    "sns.heatmap(cm,annot=True,linewidth=0.5,linecolor=\"red\",fmt=\".0f\",ax=ax)\n",
    "plt.xlabel(\"y_pred\")\n",
    "plt.ylabel(\"y_test\")\n",
    "plt.show()\n"
   ]
  },
  {
   "cell_type": "code",
   "execution_count": 11,
   "id": "e22b6675-0898-4436-b843-1f8bb4630a72",
   "metadata": {},
   "outputs": [
    {
     "name": "stdout",
     "output_type": "stream",
     "text": [
      "(14, 42)\n"
     ]
    }
   ],
   "source": [
    "# Validation on real-time data\n",
    "\n",
    "df_val_nrml = pd.read_csv(\"custom_data/normal/extracted_normal4.csv\")\n",
    "df_val_nrml['Label'] = 0\n",
    "\n",
    "print(df_val_nrml.shape)"
   ]
  },
  {
   "cell_type": "code",
   "execution_count": 12,
   "id": "d9175211-2b1e-4de1-abca-b4a3514ec82c",
   "metadata": {},
   "outputs": [],
   "source": [
    "# x_val_nrml = df_val_nrml[imp_feats]\n",
    "# y_val_nrml = df_val_nrml['Label']\n",
    "\n",
    "# y_val_nrml_pred = dt.predict(x_val_nrml)\n",
    "\n",
    "# print('Accuracy of new DT on realtime data: ', dt.score(x_val_nrml, y_val_nrml))\n",
    "# print(classification_report(y_val_nrml, y_val_nrml_pred))\n",
    "# cm=confusion_matrix(y_val_nrml,y_val_nrml_pred)\n",
    "# f,ax=plt.subplots(figsize=(5,5))\n",
    "# sns.heatmap(cm,annot=True,linewidth=0.5,linecolor=\"red\",fmt=\".0f\",ax=ax)\n",
    "# plt.xlabel(\"y_pred\")\n",
    "# plt.ylabel(\"y_test\")\n",
    "# plt.show()\n",
    "\n",
    "\n"
   ]
  },
  {
   "cell_type": "code",
   "execution_count": 13,
   "id": "b1948eb7-661e-43d1-af4e-a1a96144a182",
   "metadata": {},
   "outputs": [],
   "source": [
    "# Validation on real time\n",
    "df_val_gld = pd.read_csv(\"custom_data/golden_eye/golden_eye_v2_2.csv\")\n",
    "df_val_gld['Label'] = 1\n",
    "\n",
    "# x_val_gld = df_val_gld[imp_feats]\n",
    "# y_val_gld = df_val_gld['Label']\n",
    "\n",
    "# y_pred = dt.predict(x_val_gld)\n",
    "\n",
    "# print('Accuracy of new DT: ', dt.score(x_val_gld, y_val_gld))\n"
   ]
  },
  {
   "cell_type": "code",
   "execution_count": 14,
   "id": "6a9a3cb6-02cf-43aa-a4eb-4f0ad30f6f1c",
   "metadata": {},
   "outputs": [
    {
     "name": "stdout",
     "output_type": "stream",
     "text": [
      "Accuracy of new DT on realtime data:  0.9935691318327974\n",
      "              precision    recall  f1-score   support\n",
      "\n",
      "           0       0.46      0.93      0.62        14\n",
      "           1       1.00      0.99      1.00      2474\n",
      "\n",
      "    accuracy                           0.99      2488\n",
      "   macro avg       0.73      0.96      0.81      2488\n",
      "weighted avg       1.00      0.99      0.99      2488\n",
      "\n"
     ]
    },
    {
     "data": {
      "image/png": "[encoded data removed]",
      "text/plain": [
       "<Figure size 500x500 with 2 Axes>"
      ]
     },
     "metadata": {},
     "output_type": "display_data"
    }
   ],
   "source": [
    "df_val = pd.concat([df_val_nrml, df_val_gld]) \n",
    "\n",
    "x_val = df_val[imp_feats]\n",
    "y_val = df_val['Label']\n",
    "\n",
    "pred = dt.predict(x_val)\n",
    "\n",
    "print('Accuracy of new DT on realtime data: ', dt.score(x_val, y_val))\n",
    "print(classification_report(y_val, pred))\n",
    "cm=confusion_matrix(y_val, pred)\n",
    "f,ax=plt.subplots(figsize=(5,5))\n",
    "sns.heatmap(cm,annot=True,linewidth=0.5,linecolor=\"red\",fmt=\".0f\",ax=ax)\n",
    "plt.xlabel(\"y_pred\")\n",
    "plt.ylabel(\"y_test\")\n",
    "plt.show()\n",
    "\n",
    "\n"
   ]
  },
  {
   "cell_type": "code",
   "execution_count": 24,
   "id": "acf03be2-64d7-41c2-afe5-97dfad665e8c",
   "metadata": {},
   "outputs": [
    {
     "data": {
      "text/plain": [
       "['models/dt2.joblib']"
      ]
     },
     "execution_count": 24,
     "metadata": {},
     "output_type": "execute_result"
    }
   ],
   "source": [
    "dump(dt, \"models/dt2.joblib\")"
   ]
  },
  {
   "cell_type": "code",
   "execution_count": null,
   "id": "438cc636-d1ce-430a-ae1f-22435d34cc66",
   "metadata": {},
   "outputs": [],
   "source": [
    "''' \n",
    "1st iteration problems:\n",
    "    vm normal misclassified as attack\n",
    "\n",
    "2nd iteration \n",
    "\n",
    "'''"
   ]
  }
 ],
 "metadata": {
  "kernelspec": {
   "display_name": "Python 3 (ipykernel)",
   "language": "python",
   "name": "python3"
  },
  "language_info": {
   "codemirror_mode": {
    "name": "ipython",
    "version": 3
   },
   "file_extension": ".py",
   "mimetype": "text/x-python",
   "name": "python",
   "nbconvert_exporter": "python",
   "pygments_lexer": "ipython3",
   "version": "3.12.3"
  }
 },
 "nbformat": 4,
 "nbformat_minor": 5
}
